{
 "metadata": {
  "name": "",
  "signature": "sha256:213931e520a0dab100868fe7218bf96ed8e8410bde198e82745535550282b0d2"
 },
 "nbformat": 3,
 "nbformat_minor": 0,
 "worksheets": [
  {
   "cells": [
    {
     "cell_type": "code",
     "collapsed": false,
     "input": [
      "import numpy as np\n",
      "import matplotlib.pyplot as plt\n",
      "from sympy import *\n",
      "init_printing()\n",
      "%matplotlib inline\n",
      "from matplotlib import rcParams\n",
      "rcParams['font.family'] = 'serif'\n",
      "rcParams['font.size'] = 16"
     ],
     "language": "python",
     "metadata": {},
     "outputs": [],
     "prompt_number": 9
    },
    {
     "cell_type": "code",
     "collapsed": false,
     "input": [],
     "language": "python",
     "metadata": {},
     "outputs": []
    },
    {
     "cell_type": "code",
     "collapsed": false,
     "input": [
      "x = symbols('x')\n",
      "f = cos(x)**2 * sin(x)**3/(4*x**5*exp(x))\n",
      "f"
     ],
     "language": "python",
     "metadata": {},
     "outputs": [
      {
       "latex": [
        "$$\\frac{\\cos^{2}{\\left (x \\right )}}{4 x^{5}} e^{- x} \\sin^{3}{\\left (x \\right )}$$"
       ],
       "metadata": {},
       "output_type": "pyout",
       "png": "[encoded data removed]",
       "prompt_number": 3,
       "text": [
        " -x    3       2   \n",
        "\u212f  \u22c5sin (x)\u22c5cos (x)\n",
        "\u2500\u2500\u2500\u2500\u2500\u2500\u2500\u2500\u2500\u2500\u2500\u2500\u2500\u2500\u2500\u2500\u2500\u2500\u2500\n",
        "           5       \n",
        "        4\u22c5x        "
       ]
      }
     ],
     "prompt_number": 3
    },
    {
     "cell_type": "code",
     "collapsed": false,
     "input": [
      "f1 = f.diff(x)\n",
      "f1"
     ],
     "language": "python",
     "metadata": {},
     "outputs": [
      {
       "latex": [
        "$$- \\frac{\\sin^{4}{\\left (x \\right )}}{2 x^{5}} e^{- x} \\cos{\\left (x \\right )} - \\frac{\\cos^{2}{\\left (x \\right )}}{4 x^{5}} e^{- x} \\sin^{3}{\\left (x \\right )} + \\frac{3 e^{- x}}{4 x^{5}} \\sin^{2}{\\left (x \\right )} \\cos^{3}{\\left (x \\right )} - \\frac{5 e^{- x}}{4 x^{6}} \\sin^{3}{\\left (x \\right )} \\cos^{2}{\\left (x \\right )}$$"
       ],
       "metadata": {},
       "output_type": "pyout",
       "png": "[encoded data removed]",
       "prompt_number": 4,
       "text": [
        "   -x    4              -x    3       2         -x    2       3         -x    \n",
        "  \u212f  \u22c5sin (x)\u22c5cos(x)   \u212f  \u22c5sin (x)\u22c5cos (x)   3\u22c5\u212f  \u22c5sin (x)\u22c5cos (x)   5\u22c5\u212f  \u22c5sin\n",
        "- \u2500\u2500\u2500\u2500\u2500\u2500\u2500\u2500\u2500\u2500\u2500\u2500\u2500\u2500\u2500\u2500\u2500\u2500 - \u2500\u2500\u2500\u2500\u2500\u2500\u2500\u2500\u2500\u2500\u2500\u2500\u2500\u2500\u2500\u2500\u2500\u2500\u2500 + \u2500\u2500\u2500\u2500\u2500\u2500\u2500\u2500\u2500\u2500\u2500\u2500\u2500\u2500\u2500\u2500\u2500\u2500\u2500\u2500\u2500 - \u2500\u2500\u2500\u2500\u2500\u2500\u2500\u2500\u2500\n",
        "            5                     5                      5                    \n",
        "         2\u22c5x                   4\u22c5x                    4\u22c5x                     \n",
        "\n",
        "3       2   \n",
        " (x)\u22c5cos (x)\n",
        "\u2500\u2500\u2500\u2500\u2500\u2500\u2500\u2500\u2500\u2500\u2500\u2500\n",
        "   6        \n",
        "4\u22c5x         "
       ]
      }
     ],
     "prompt_number": 4
    },
    {
     "cell_type": "code",
     "collapsed": false,
     "input": [
      "f1.subs(x,2.2)"
     ],
     "language": "python",
     "metadata": {},
     "outputs": [
      {
       "latex": [
        "$$-0.000266489126709206$$"
       ],
       "metadata": {},
       "output_type": "pyout",
       "png": "[encoded data removed]",
       "prompt_number": 6,
       "text": [
        "-0.000266489126709206"
       ]
      }
     ],
     "prompt_number": 6
    },
    {
     "cell_type": "heading",
     "level": 1,
     "metadata": {},
     "source": [
      "Coding Problem"
     ]
    },
    {
     "cell_type": "code",
     "collapsed": false,
     "input": [
      "Vmax = 136. #kmh\n",
      "L = 11.    #km\n",
      "nx = 51\n",
      "rho_max = 250. # cars/km\n",
      "dt = 0.001     # hours\n",
      "dx = L/(nx-1)\n",
      "nt = 110 # 6 min"
     ],
     "language": "python",
     "metadata": {},
     "outputs": [],
     "prompt_number": 35
    },
    {
     "cell_type": "code",
     "collapsed": false,
     "input": [
      "x = np.linspace(0,L,nx)\n",
      "rho = np.ones(nx)*20\n",
      "rho[10:20] = 50\n",
      "\n",
      "V = Vmax *(1-rho/rho_max)\n",
      "\n",
      "print \"min velocity at t=0 :\", min(V)/3.6, \" m/s\"\n"
     ],
     "language": "python",
     "metadata": {},
     "outputs": [
      {
       "output_type": "stream",
       "stream": "stdout",
       "text": [
        "min velocity at t=0 : 30.2222222222  m/s\n"
       ]
      }
     ],
     "prompt_number": 36
    },
    {
     "cell_type": "code",
     "collapsed": false,
     "input": [
      "rho = np.ones(nx)*20\n",
      "rho[10:20] = 50\n",
      "\n",
      "V = Vmax *(1-rho/rho_max)\n",
      "\n",
      "print \"min velocity at t=0 :\", min(V)/3.6, \" m/s\"\n",
      "\n",
      "for n in range(1, nt):  \n",
      "    rho_n = rho.copy() \n",
      "    rho[1:] = rho_n[1:]- Vmax*dt/dx*( rho_n[1:]*(1-rho_n[1:]/rho_max) - rho_n[0:-1]*(1-rho_n[0:-1]/rho_max)) \n",
      "    rho[0] = 20.0\n",
      "    V = Vmax *(1-rho/rho_max)\n",
      "    if (n-0)*dt == 3./60:\n",
      "        print \"min velocity at t=3 min :\", np.mean(V)/3.6, \" m/s\"\n",
      "    if (n-0)*dt == 3./60:\n",
      "        print \"min velocity at t=6 min :\", min(V)/3.6, \" m/s\""
     ],
     "language": "python",
     "metadata": {},
     "outputs": [
      {
       "output_type": "stream",
       "stream": "stdout",
       "text": [
        "min velocity at t=0 : 30.2222222222  m/s\n",
        "min velocity at t=3 min : 33.872218191  m/s\n",
        "min velocity at t=6 min : 30.9864026806  m/s\n"
       ]
      }
     ],
     "prompt_number": 39
    },
    {
     "cell_type": "code",
     "collapsed": false,
     "input": [],
     "language": "python",
     "metadata": {},
     "outputs": []
    },
    {
     "cell_type": "raw",
     "metadata": {},
     "source": [
      "fig = plt.figure(figsize=(8,5))\n",
      "ax = plt.axes(xlim=(0,2), ylim=(1,2.5))\n",
      "line = ax.plot([], [], color='#003366', ls='--', lw=3)[0]\n",
      "\n",
      "def diffusion(i):\n",
      "    line.set_data(x,u)\n",
      "    \n",
      "    un = u.copy() \n",
      "    u[1:-1] = un[1:-1] + nu*dt/dx**2*(un[2:] -2*un[1:-1] +un[0:-2]) \n",
      "    \n",
      "\n",
      "animation.FuncAnimation(fig, diffusion,\n",
      "                        frames=nt, interval=100)"
     ]
    },
    {
     "cell_type": "code",
     "collapsed": false,
     "input": [],
     "language": "python",
     "metadata": {},
     "outputs": []
    }
   ],
   "metadata": {}
  }
 ]
}