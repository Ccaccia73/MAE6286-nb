{
 "metadata": {
  "name": "",
  "signature": "sha256:e288acc144165ed586f8a3df8639e0f949b202b12e69536eaf1f9edd80314ac3"
 },
 "nbformat": 3,
 "nbformat_minor": 0,
 "worksheets": [
  {
   "cells": [
    {
     "cell_type": "heading",
     "level": 1,
     "metadata": {},
     "source": [
      "Reaction - Diffusion Model"
     ]
    },
    {
     "cell_type": "markdown",
     "metadata": {},
     "source": [
      "Implementation of the *Gray Scott* model."
     ]
    },
    {
     "cell_type": "markdown",
     "metadata": {},
     "source": [
      "The Gray-Scott model represents the reaction and diffusion of two generic chemical species, $U$ and $V$, whose concentration at a point in space is represented by variables $u$ and $v$. The model follows some simple rules.  \n",
      "\n",
      "*  Each chemical _diffuses_ through space at its own rate.\n",
      "*  Species $U$ is added at a constant feed rate into the system.\n",
      "*  Two units of species V can 'turn' a unit of species U into V: $\\; 2V+U\\rightarrow 3V$\n",
      "*  There's a constant kill rate removing species $V$.\n",
      "\n",
      "This model results in the following system of partial differential equations for the concentrations $u(x,y,t)$ and $v(x,y,t)$ of both chemical species:"
     ]
    },
    {
     "cell_type": "markdown",
     "metadata": {},
     "source": [
      "\\begin{align}\n",
      "\\frac{\\partial u}{\\partial t} &= D_u \\nabla ^2 u - uv^2 + F(1-u)\\\\\n",
      "\\frac{\\partial v}{\\partial t} &= D_v \\nabla ^2 v + uv^2 - (F + k)v\n",
      "\\end{align}"
     ]
    },
    {
     "cell_type": "code",
     "collapsed": false,
     "input": [
      "import numpy as np\n",
      "import matplotlib.pyplot as plt\n",
      "import matplotlib.cm as cm\n",
      "%matplotlib inline"
     ],
     "language": "python",
     "metadata": {},
     "outputs": [],
     "prompt_number": 2
    },
    {
     "cell_type": "code",
     "collapsed": false,
     "input": [
      "n = 192\n",
      "\n",
      "Du, Dv, F, k = 0.00016, 0.00008, 0.035, 0.065 # Bacteria 1 \n",
      "\n",
      "dh = 5./(n-1)\n",
      "\n",
      "T = 8000\n",
      "\n",
      "dt = .9 * dh**2 / (4*max(Du,Dv))\n",
      "\n",
      "nt = int(T/dt)"
     ],
     "language": "python",
     "metadata": {},
     "outputs": [],
     "prompt_number": 3
    },
    {
     "cell_type": "heading",
     "level": 2,
     "metadata": {},
     "source": [
      "Initial conditions"
     ]
    },
    {
     "cell_type": "code",
     "collapsed": false,
     "input": [
      "uvinitial = numpy.load('./data/uvinitial.npz')\n",
      "U = uvinitial['U']\n",
      "V = uvinitial['V']"
     ],
     "language": "python",
     "metadata": {},
     "outputs": []
    }
   ],
   "metadata": {}
  }
 ]
}